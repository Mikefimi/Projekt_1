{
 "cells": [
  {
   "cell_type": "code",
   "execution_count": null,
   "metadata": {},
   "outputs": [],
   "source": []
  },
  {
   "cell_type": "code",
   "execution_count": null,
   "metadata": {},
   "outputs": [],
   "source": [
    "# V této úloze vytvoř program, který:\n",
    "\n",
    "#     Vytvoří nový prázdný slovník user_1,\n",
    "user_1 = {}\n",
    "#     doplní do slovníku user_1 klíč name (hodnota Marek) a surname (hodnota Parek),\n",
    "user_1[\"name\"] = \"Marek\"\n",
    "user_1[\"surname\"] = \"Parek\"\n",
    "#     pomocí vhodné metody rozšíří stávající slovník user_1 o zadanou proměnnou user_email,\n",
    "user_email = {\"email\": \"marek.parek@gmail.com\"}\n",
    "user_1.update(user_email)\n",
    "#     vypiš hodnoty nového slovníku user_1 s úvodním textem User #01:.\n",
    "print(f\"User /#01: {user_1}\")\n",
    "\n",
    "# Ukázka průběhu:\n",
    "\n",
    "# User #01 {'name': 'Marek', 'surname': 'Parek', 'email': 'marek.parek@gmail.com'}"
   ]
  },
  {
   "cell_type": "code",
   "execution_count": null,
   "metadata": {},
   "outputs": [],
   "source": [
    "# Zadání\n",
    "\n",
    "# V této úloze si vyzkoušíš práci s nestovaným slovníkem.\n",
    "\n",
    "# Jednotlivé kroky, které musí tvůj program obsahovat:\n",
    "\n",
    "#     Vytvoř proměnnou employees, typu dict s hodnotami:\n",
    "\n",
    "employees = {\n",
    "'employee01': {\n",
    "'name': 'Marek',\n",
    "'surname': 'Parek',\n",
    "'email': 'marek.parek@gmail.com'\n",
    "},\n",
    "'employee02': {\n",
    "'name': 'Matous',\n",
    "'surname': 'Svatous',\n",
    "'email': 'matous.svatous@gmail.com'\n",
    "},\n",
    "'employee03': {\n",
    "'name': 'anna',\n",
    "'surname': 'rana',\n",
    "'email': 'anna.rana@gmail.com'\n",
    "}\n",
    "}\n",
    "\n",
    "#     vypiš všechny klíče ze zadaného slovníku employees s doplňujícím oznámením \"Všechny klíče:\",\n",
    "print(\"Všechny klíče:\" , employees.keys())\n",
    "print(f\"Všechny hodnoty:\" ,employees.values())\n",
    "#     vypiš všechny hodnoty ze zadaného slovníku employees s doplňujícím oznámením \"Všechny hodnoty:\",\n",
    "#     vypiš jak klíče, tak hodnoty k zaměstnanci employee03 ze zadaného slovníku employees s doplňujícím oznámením \"Všechny údaje k poslednímu zaměstnanci:\".\n",
    "\n",
    "# Ukázka průběhu\n",
    "print(\"Všechny údaje k poslednímu zaměstnanci:\", employees['employee03'].items())\n",
    "\n",
    "\n",
    "\n",
    "# Všechny klíče: dict_keys(['employee01', 'employee02', 'employee03'])\n",
    "# Všechny hodnoty: dict_values([{'name': 'Marek', 'surname': 'Parek',\n",
    "# 'email': 'marek.parek@gmail.com'}, {'name': 'Matous', 'surname': 'Svatous',\n",
    "# 'email': 'matous.svatous@gmail.com'}, {'name': 'anna', 'surname': 'rana',\n",
    "# 'email': 'anna.rana@gmail.com'}])\n",
    "# Všechny údaje k poslednímu zaměstnanci: dict_items([('name', 'anna'),\n",
    "# ('surname', 'rana'), ('email', 'anna.rana@gmail.com')])"
   ]
  },
  {
   "cell_type": "code",
   "execution_count": 5,
   "metadata": {},
   "outputs": [
    {
     "name": "stdout",
     "output_type": "stream",
     "text": [
      "{'id123': {'jmeno': 'Thomas', 'vek': 45, 'zeme': 'Czechia', 'mesto': 'Brno'}, 'id124': {'jmeno': 'Daniel', 'vek': 34, 'zeme': 'Czechia', 'mesto': 'Prague'}, 'id125': {'jmeno': 'Eva', 'vek': 43, 'zeme': 'Czechia', 'mesto': 'Olomouc'}}\n"
     ]
    }
   ],
   "source": [
    "# Zadání\n",
    "\n",
    "# V této úloze vytvoř program, který vezme slovníky id123, id124 a id125 do našeho hlavního slovníku databaze.\n",
    "\n",
    "# Jednotlivé kroky, které musí tvůj program obsahovat:\n",
    "\n",
    "#     Zapiš proměnné, se kterými budeš dál pracovat:\n",
    "\n",
    "id123 = {'jmeno': 'Thomas', 'vek': 45, 'zeme': 'Czechia', 'mesto': 'Brno'}\n",
    "id124 = {'jmeno': 'Daniel', 'vek': 34, 'zeme': 'Czechia', 'mesto': 'Prague'}\n",
    "id125 = {'jmeno': 'Eva', 'vek': 43, 'zeme': 'Czechia', 'mesto': 'Olomouc'}\n",
    "\n",
    "#     Vytvoř slovník databaze s klíči id123, id124, id125:\n",
    "\n",
    "databaze = {'id123': {},'id124': {},'id125': {}}\n",
    "\n",
    "#     přiřaď jednotlivé slovníky id123, id124, id125 ke konkrétním klíčům ve slovníku databaze,\n",
    "databaze['id123'] = {'jmeno': 'Thomas', 'vek': 45, 'zeme': 'Czechia', 'mesto': 'Brno'}\n",
    "databaze['id124'] = {'jmeno': 'Daniel', 'vek': 34, 'zeme': 'Czechia', 'mesto': 'Prague'}\n",
    "databaze['id125'] = {'jmeno': 'Eva', 'vek': 43, 'zeme': 'Czechia', 'mesto': 'Olomouc'}\n",
    "#     vypiš obsah slovníku databaze.\n",
    "print(databaze)\n",
    "# Ukázka průběhu\n",
    "\n",
    "# {'id123': {'jmeno': 'Thomas', 'vek': 45, 'zeme': 'Czechia', 'mesto': 'Brno'},\n",
    "# 'id124': {'jmeno': 'Daniel', 'vek': 34, 'zeme': 'Czechia', 'mesto': 'Prague'},\n",
    "# 'id125': {'jmeno': 'Eva', 'vek': 43, 'zeme': 'Czechia', 'mesto': 'Olomouc'}}\n",
    "\n"
   ]
  }
 ],
 "metadata": {
  "kernelspec": {
   "display_name": "Python 3",
   "language": "python",
   "name": "python3"
  },
  "language_info": {
   "codemirror_mode": {
    "name": "ipython",
    "version": 3
   },
   "file_extension": ".py",
   "mimetype": "text/x-python",
   "name": "python",
   "nbconvert_exporter": "python",
   "pygments_lexer": "ipython3",
   "version": "3.12.3"
  }
 },
 "nbformat": 4,
 "nbformat_minor": 2
}
