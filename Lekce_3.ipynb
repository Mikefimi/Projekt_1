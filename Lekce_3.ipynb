{
 "cells": [
  {
   "cell_type": "code",
   "execution_count": null,
   "metadata": {},
   "outputs": [],
   "source": []
  },
  {
   "cell_type": "code",
   "execution_count": null,
   "metadata": {},
   "outputs": [],
   "source": [
    "# V této úloze vytvoř program, který:\n",
    "\n",
    "#     Vytvoří nový prázdný slovník user_1,\n",
    "user_1 = {}\n",
    "#     doplní do slovníku user_1 klíč name (hodnota Marek) a surname (hodnota Parek),\n",
    "user_1[\"name\"] = \"Marek\"\n",
    "user_1[\"surname\"] = \"Parek\"\n",
    "#     pomocí vhodné metody rozšíří stávající slovník user_1 o zadanou proměnnou user_email,\n",
    "user_email = {\"email\": \"marek.parek@gmail.com\"}\n",
    "user_1.update(user_email)\n",
    "#     vypiš hodnoty nového slovníku user_1 s úvodním textem User #01:.\n",
    "print(f\"User /#01: {user_1}\")\n",
    "\n",
    "# Ukázka průběhu:\n",
    "\n",
    "# User #01 {'name': 'Marek', 'surname': 'Parek', 'email': 'marek.parek@gmail.com'}"
   ]
  },
  {
   "cell_type": "code",
   "execution_count": null,
   "metadata": {},
   "outputs": [],
   "source": [
    "# Zadání\n",
    "\n",
    "# V této úloze si vyzkoušíš práci s nestovaným slovníkem.\n",
    "\n",
    "# Jednotlivé kroky, které musí tvůj program obsahovat:\n",
    "\n",
    "#     Vytvoř proměnnou employees, typu dict s hodnotami:\n",
    "\n",
    "employees = {\n",
    "'employee01': {\n",
    "'name': 'Marek',\n",
    "'surname': 'Parek',\n",
    "'email': 'marek.parek@gmail.com'\n",
    "},\n",
    "'employee02': {\n",
    "'name': 'Matous',\n",
    "'surname': 'Svatous',\n",
    "'email': 'matous.svatous@gmail.com'\n",
    "},\n",
    "'employee03': {\n",
    "'name': 'anna',\n",
    "'surname': 'rana',\n",
    "'email': 'anna.rana@gmail.com'\n",
    "}\n",
    "}\n",
    "\n",
    "#     vypiš všechny klíče ze zadaného slovníku employees s doplňujícím oznámením \"Všechny klíče:\",\n",
    "print(\"Všechny klíče:\" , employees.keys())\n",
    "print(f\"Všechny hodnoty:\" ,employees.values())\n",
    "#     vypiš všechny hodnoty ze zadaného slovníku employees s doplňujícím oznámením \"Všechny hodnoty:\",\n",
    "#     vypiš jak klíče, tak hodnoty k zaměstnanci employee03 ze zadaného slovníku employees s doplňujícím oznámením \"Všechny údaje k poslednímu zaměstnanci:\".\n",
    "\n",
    "# Ukázka průběhu\n",
    "print(\"Všechny údaje k poslednímu zaměstnanci:\", employees['employee03'].items())\n",
    "\n",
    "\n",
    "\n",
    "# Všechny klíče: dict_keys(['employee01', 'employee02', 'employee03'])\n",
    "# Všechny hodnoty: dict_values([{'name': 'Marek', 'surname': 'Parek',\n",
    "# 'email': 'marek.parek@gmail.com'}, {'name': 'Matous', 'surname': 'Svatous',\n",
    "# 'email': 'matous.svatous@gmail.com'}, {'name': 'anna', 'surname': 'rana',\n",
    "# 'email': 'anna.rana@gmail.com'}])\n",
    "# Všechny údaje k poslednímu zaměstnanci: dict_items([('name', 'anna'),\n",
    "# ('surname', 'rana'), ('email', 'anna.rana@gmail.com')])"
   ]
  },
  {
   "cell_type": "code",
   "execution_count": 6,
   "metadata": {},
   "outputs": [
    {
     "name": "stdout",
     "output_type": "stream",
     "text": [
      "{'id123': {'jmeno': 'Thomas', 'vek': 45, 'zeme': 'Czechia', 'mesto': 'Brno'}, 'id124': {'jmeno': 'Daniel', 'vek': 34, 'zeme': 'Czechia', 'mesto': 'Prague'}, 'id125': {'jmeno': 'Eva', 'vek': 43, 'zeme': 'Czechia', 'mesto': 'Olomouc'}}\n"
     ]
    }
   ],
   "source": [
    "# Zadání\n",
    "\n",
    "# V této úloze vytvoř program, který vezme slovníky id123, id124 a id125 do našeho hlavního slovníku databaze.\n",
    "\n",
    "# Jednotlivé kroky, které musí tvůj program obsahovat:\n",
    "\n",
    "#     Zapiš proměnné, se kterými budeš dál pracovat:\n",
    "\n",
    "id123 = {'jmeno': 'Thomas', 'vek': 45, 'zeme': 'Czechia', 'mesto': 'Brno'}\n",
    "id124 = {'jmeno': 'Daniel', 'vek': 34, 'zeme': 'Czechia', 'mesto': 'Prague'}\n",
    "id125 = {'jmeno': 'Eva', 'vek': 43, 'zeme': 'Czechia', 'mesto': 'Olomouc'}\n",
    "\n",
    "#     Vytvoř slovník databaze s klíči id123, id124, id125:\n",
    "\n",
    "databaze = {'id123': {},'id124': {},'id125': {}}\n",
    "\n",
    "#     přiřaď jednotlivé slovníky id123, id124, id125 ke konkrétním klíčům ve slovníku databaze,\n",
    "databaze['id123'] = {'jmeno': 'Thomas', 'vek': 45, 'zeme': 'Czechia', 'mesto': 'Brno'}\n",
    "databaze['id124'] = {'jmeno': 'Daniel', 'vek': 34, 'zeme': 'Czechia', 'mesto': 'Prague'}\n",
    "databaze['id125'] = {'jmeno': 'Eva', 'vek': 43, 'zeme': 'Czechia', 'mesto': 'Olomouc'}\n",
    "#     vypiš obsah slovníku databaze.\n",
    "print(databaze)\n",
    "# Ukázka průběhu\n",
    "\n",
    "# {'id123': {'jmeno': 'Thomas', 'vek': 45, 'zeme': 'Czechia', 'mesto': 'Brno'},\n",
    "# 'id124': {'jmeno': 'Daniel', 'vek': 34, 'zeme': 'Czechia', 'mesto': 'Prague'},\n",
    "# 'id125': {'jmeno': 'Eva', 'vek': 43, 'zeme': 'Czechia', 'mesto': 'Olomouc'}}\n",
    "\n"
   ]
  },
  {
   "cell_type": "code",
   "execution_count": 7,
   "metadata": {},
   "outputs": [
    {
     "name": "stdout",
     "output_type": "stream",
     "text": [
      "Ahoj Marek vítej v aplikaci! Pokračuj...\n"
     ]
    }
   ],
   "source": [
    "# V této úloze vytvoř program, který se pokusí ověřit, jestli heslo vložené uživatelem patří k jeho účtu.\n",
    "# Jednotlivé kroky, které program musí obsahovat:\n",
    "# Nejprve vytvoř proměnné:\n",
    "\n",
    "jmeno = 'Marek'\n",
    "heslo = '1234'\n",
    "uzivatel = {'Marek': '1234'}\n",
    "\n",
    "#     zapiš podmínku, která zkontroluje, jestli se hodnoty v proměnných jmeno a heslo shodují s klíčem a hodnotou ve slovníku uzivatel,\n",
    "if jmeno in uzivatel and uzivatel[jmeno] == heslo:\n",
    "    print(\"Ahoj Marek vítej v aplikaci! Pokračuj...\")\n",
    "else:\n",
    "    print(\"Uživatelské jméno nebo heslo nejsou v pořádku!\")\n",
    "#     pokud se shodují vypiš oznámení jako v ukázce níže,\n",
    "#     pokud se neshodují, opět vypiš oznámení jako v ukázce níže.\n",
    "\n",
    "# Ukázka průběhu\n",
    "\n",
    "# # Hodnoty v proměnných se shodují..\n",
    "# Ahoj Marek vítej v aplikaci! Pokračuj...\n",
    "\n",
    "# Chybné přihlašovací údaje:\n",
    "\n",
    "# # ..pokud se neshoduje buď proměnná `jmeno`, nebo proměnná `heslo`..\n",
    "# Uživatelské jméno nebo heslo nejsou v pořádku!"
   ]
  },
  {
   "cell_type": "code",
   "execution_count": 15,
   "metadata": {},
   "outputs": [
    {
     "name": "stdout",
     "output_type": "stream",
     "text": [
      "Sjednocené hodnoty ze zadání: {1, 2, 3, 4, 5, 6, 7, 8}\n"
     ]
    }
   ],
   "source": [
    "# V této úloze vytvoř program, který:\n",
    "\n",
    "#     Vytvoří proměnné:\n",
    "#     Ukázka kódu\n",
    "\n",
    "# ZKOPÍROVAT KÓD\n",
    "\n",
    "cisla_1 = (1, 1, 2, 3, 4)\n",
    "cisla_2 = (5, 6, 7, 7, 8)\n",
    "\n",
    "#     vytvoří ze zadaných proměnných sety\n",
    "\n",
    "sjednocene_hodnoty = set(cisla_1).union(set(cisla_2))\n",
    "#     udělá sjednocení hodnot obou nově vzniklých setů a uloží jej do proměnné sjednocene_hodnoty,\n",
    "#     vypíše výsledek s ohlášením \"Sjednocené hodnoty ze zadání:\".\n",
    "print(f\"Sjednocené hodnoty ze zadání: {sjednocene_hodnoty}\")\n",
    "\n",
    "# Ukázka průběhu:\n",
    "\n",
    "# Sjednocené hodnoty ze zadání: {1, 2, 3, 4, 5, 6, 7, 8}"
   ]
  },
  {
   "cell_type": "code",
   "execution_count": 16,
   "metadata": {},
   "outputs": [
    {
     "name": "stdout",
     "output_type": "stream",
     "text": [
      "Rozdílné hodnoty prvního setu oproti druhému: {1, 2}\n"
     ]
    }
   ],
   "source": [
    "# V této úloze vytvoř program, který:\n",
    "\n",
    "#     Vytvoří proměnné:\n",
    "#     Ukázka kódu\n",
    "\n",
    "# ZKOPÍROVAT KÓD\n",
    "\n",
    "cisla_1 = {1, 2, 3, 4}\n",
    "cisla_2 = {3, 4, 5, 6}\n",
    "\n",
    "#     zjistí jaké hodnoty prvního setu jsou rozdílné oproti setu druhému a uloží hodnoty do proměnné rozdil_cisel,\n",
    "rozdil_cisel = cisla_1.difference(cisla_2)\n",
    "#     vypíše výsledek s ohlášením \"Rozdílné hodnoty prvního setu oproti druhému:\".\n",
    "\n",
    "print(f\"Rozdílné hodnoty prvního setu oproti druhému: {rozdil_cisel}\")\n",
    "\n",
    "# Ukázka průběhu\n",
    "\n",
    "# Rozdílné hodnoty prvního setu oproti druhému: {1, 2}"
   ]
  }
 ],
 "metadata": {
  "kernelspec": {
   "display_name": "Python 3",
   "language": "python",
   "name": "python3"
  },
  "language_info": {
   "codemirror_mode": {
    "name": "ipython",
    "version": 3
   },
   "file_extension": ".py",
   "mimetype": "text/x-python",
   "name": "python",
   "nbconvert_exporter": "python",
   "pygments_lexer": "ipython3",
   "version": "3.12.3"
  }
 },
 "nbformat": 4,
 "nbformat_minor": 2
}
