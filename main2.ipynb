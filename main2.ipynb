{
 "cells": [
  {
   "cell_type": "code",
   "execution_count": null,
   "metadata": {},
   "outputs": [],
   "source": [
    "# promene zadané\n",
    "\n",
    "mercedes = 150_000\n",
    "rolls_royce = 400_000\n",
    "vybava = 50_000\n",
    "\n",
    "# promene vytvorene a vypocitane\n",
    "\n",
    "sleva_merc = 5_000\n",
    "cena_2_merc = (mercedes * 2)\n",
    "cena_merc_a_rolls = (mercedes + rolls_royce)\n",
    "cena_2_rolls_s_vybavou = ((rolls_royce + vybava) * 2)\n",
    "cena_merc_s_vybavou = (mercedes + vybava)\n",
    "merc_se_slevou = (mercedes - sleva_merc)\n",
    "\n",
    "# vypis\n",
    "\n",
    "print(\"Sleva na Mercedes: \", + sleva_merc)\n",
    "print(\"Cena za dva Mercedesy je: \", + cena_2_merc)\n",
    "print(\"Cena za Mercedes a Rolls-Royce: \", + cena_merc_a_rolls)\n",
    "print(\"Cena za dva Rools-Royce s příplatkovou výbavou: \", + cena_2_rolls_s_vybavou)\n",
    "print(\"Cena za Mercedes s příplatkovou výbavou: \", + cena_merc_s_vybavou)\n",
    "print(\"Cena za Mercedes po slevě: \", + merc_se_slevou)"
   ]
  },
  {
   "cell_type": "code",
   "execution_count": null,
   "metadata": {},
   "outputs": [],
   "source": [
    "# promene\n",
    "\n",
    "jmeno = \"Lukáš\"\n",
    "prijmeni = \"Dvořák\"\n",
    "cele_jmeno = jmeno + \" \" + prijmeni\n",
    "delka_jmena = len(cele_jmeno)\n",
    "\n",
    "# vypis\n",
    "\n",
    "print(\"Celé jméno: \", cele_jmeno)\n",
    "print(\"Délka jména: \", delka_jmena)\n",
    "print(\"=\" * delka_jmena)\n",
    "print(cele_jmeno)\n",
    "print(\"=\" * delka_jmena)"
   ]
  },
  {
   "cell_type": "code",
   "execution_count": 26,
   "metadata": {},
   "outputs": [
    {
     "name": "stdout",
     "output_type": "stream",
     "text": [
      "VITEJTE U NASI APLIKACE DESTINATIO!\n",
      "===================================\n",
      "1 - Praha   | 150\n",
      "2 - Viden   | 200\n",
      "3 - Olomouc | 120\n",
      "4 - Svitavy | 120\n",
      "5 - Zlin    | 100\n",
      "6 - Ostrava | 180\n",
      "\n",
      "===================================\n",
      "CISLO DESTINACE: 1\n",
      "JMENO: gg\n",
      "PRIJMENI: jj\n",
      "EMAIL: oo\n",
      "===================================\n",
      "DEKUJI, gg ZA OBJEDNAVKU,\n",
      "CIL. DESTINACE Praha, CENA JIZDNEHO: 150,\n",
      "NA TVUJ MAIL oo JSME TI POSLALI LISTEK.\n"
     ]
    }
   ],
   "source": [
    "# DESTINATIO\n",
    "\n",
    "mesta = [\"Praha\", \"Viden\", \"Olomouc\", \"Svitavy\", \"Zlin\", \"Ostrava\"]\n",
    "ceny = (150, 200, 120, 120, 100, 180)\n",
    "cara = \"=\" * 35\n",
    "nabidka = \"\"\"1 - Praha   | 150\n",
    "2 - Viden   | 200\n",
    "3 - Olomouc | 120\n",
    "4 - Svitavy | 120\n",
    "5 - Zlin    | 100\n",
    "6 - Ostrava | 180\n",
    "\"\"\"\n",
    "\n",
    "print(\"VITEJTE U NASI APLIKACE DESTINATIO!\")\n",
    "print(cara)\n",
    "print(nabidka)\n",
    "print(cara)\n",
    "\n",
    "destinace = input(\"CISLO DESTINACE: \")\n",
    "jmeno = input(\"JMENO: \")\n",
    "prijmeni = input(\"PRIJMENI: \")\n",
    "email = input(\"EMAIL: \")\n",
    "print(\"CISLO DESTINACE: \" + destinace)\n",
    "print(\"JMENO: \" + jmeno)\n",
    "print(\"PRIJMENI: \" + prijmeni)\n",
    "print(\"EMAIL: \" + email)\n",
    "print(cara)\n",
    "\n",
    "spravna_destinace = mesta[int(destinace) - 1]\n",
    "spravna_cena = ceny[int(destinace) - 1]\n",
    "\n",
    "print(f\"\"\"DEKUJI, {jmeno} ZA OBJEDNAVKU,\n",
    "CIL. DESTINACE {spravna_destinace}, CENA JIZDNEHO: {spravna_cena},\n",
    "NA TVUJ MAIL {email} JSME TI POSLALI LISTEK.\"\"\")"
   ]
  }
 ],
 "metadata": {
  "kernelspec": {
   "display_name": "Python 3",
   "language": "python",
   "name": "python3"
  },
  "language_info": {
   "codemirror_mode": {
    "name": "ipython",
    "version": 3
   },
   "file_extension": ".py",
   "mimetype": "text/x-python",
   "name": "python",
   "nbconvert_exporter": "python",
   "pygments_lexer": "ipython3",
   "version": "3.12.3"
  }
 },
 "nbformat": 4,
 "nbformat_minor": 2
}
