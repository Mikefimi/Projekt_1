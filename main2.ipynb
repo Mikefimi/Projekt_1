{
 "cells": [
  {
   "cell_type": "code",
   "execution_count": 19,
   "metadata": {},
   "outputs": [
    {
     "name": "stdout",
     "output_type": "stream",
     "text": [
      "Sleva na Mercedes:  5000\n",
      "Cena za dva Mercedesy je:  300000\n",
      "Cena za Mercedes a Rolls-Royce:  550000\n",
      "Cena za dva Rools-Royce s příplatkovou výbavou:  900000\n",
      "Cena za Mercedes s příplatkovou výbavou:  200000\n",
      "Cena za Mercedes po slevě:  145000\n"
     ]
    }
   ],
   "source": [
    "# promene zadané\n",
    "\n",
    "mercedes = 150_000\n",
    "rolls_royce = 400_000\n",
    "vybava = 50_000\n",
    "\n",
    "# promene vytvorene a vypocitane\n",
    "\n",
    "sleva_merc = 5_000\n",
    "cena_2_merc = (mercedes * 2)\n",
    "cena_merc_a_rolls = (mercedes + rolls_royce)\n",
    "cena_2_rolls_s_vybavou = ((rolls_royce + vybava) * 2)\n",
    "cena_merc_s_vybavou = (mercedes + vybava)\n",
    "merc_se_slevou = (mercedes - sleva_merc)\n",
    "\n",
    "# vypis\n",
    "\n",
    "print(\"Sleva na Mercedes: \", + sleva_merc)\n",
    "print(\"Cena za dva Mercedesy je: \", + cena_2_merc)\n",
    "print(\"Cena za Mercedes a Rolls-Royce: \", + cena_merc_a_rolls)\n",
    "print(\"Cena za dva Rools-Royce s příplatkovou výbavou: \", + cena_2_rolls_s_vybavou)\n",
    "print(\"Cena za Mercedes s příplatkovou výbavou: \", + cena_merc_s_vybavou)\n",
    "print(\"Cena za Mercedes po slevě: \", + merc_se_slevou)"
   ]
  }
 ],
 "metadata": {
  "kernelspec": {
   "display_name": "Python 3",
   "language": "python",
   "name": "python3"
  },
  "language_info": {
   "codemirror_mode": {
    "name": "ipython",
    "version": 3
   },
   "file_extension": ".py",
   "mimetype": "text/x-python",
   "name": "python",
   "nbconvert_exporter": "python",
   "pygments_lexer": "ipython3",
   "version": "3.12.3"
  }
 },
 "nbformat": 4,
 "nbformat_minor": 2
}
